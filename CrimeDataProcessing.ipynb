{
 "cells": [
  {
   "cell_type": "code",
   "execution_count": 5,
   "metadata": {},
   "outputs": [],
   "source": [
    "# Import the CrimeDataFetcher class\n",
    "from CrimeDataFetcherETL import CrimeDataFetcher\n",
    "\n",
    "# Initialize the fetcher\n",
    "CrimeDataPipeline = CrimeDataFetcher()\n",
    "\n",
    "# Process Data\n",
    "url = 'https://data.lacity.org/api/views/2nrs-mtv8/rows.json?accessType=DOWNLOAD'\n",
    "collist, data, num_rows = CrimeDataPipeline.fetch_crime_data(url)\n",
    "CrimeDataPipeline.lists_to_csv(data, 'data.csv', collist)"
   ]
  },
  {
   "cell_type": "code",
   "execution_count": null,
   "metadata": {},
   "outputs": [],
   "source": []
  }
 ],
 "metadata": {
  "kernelspec": {
   "display_name": "base",
   "language": "python",
   "name": "python3"
  },
  "language_info": {
   "codemirror_mode": {
    "name": "ipython",
    "version": 3
   },
   "file_extension": ".py",
   "mimetype": "text/x-python",
   "name": "python",
   "nbconvert_exporter": "python",
   "pygments_lexer": "ipython3",
   "version": "3.9.13"
  }
 },
 "nbformat": 4,
 "nbformat_minor": 2
}
