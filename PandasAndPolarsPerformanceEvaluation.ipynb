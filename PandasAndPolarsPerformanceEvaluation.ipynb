{
 "cells": [
  {
   "cell_type": "markdown",
   "metadata": {},
   "source": [
    "### Importing Performance Evaluator functions"
   ]
  },
  {
   "cell_type": "code",
   "execution_count": 1,
   "metadata": {},
   "outputs": [
    {
     "name": "stdout",
     "output_type": "stream",
     "text": [
      "Testing Data Retrieval\n"
     ]
    }
   ],
   "source": [
    "# Import the PerformanceEvaluator class\n",
    "from PerformanceEvaluator import PerformanceEvaluator\n",
    "\n",
    "# Initialize the evaluator\n",
    "evaluator = PerformanceEvaluator()\n",
    "\n",
    "# Example: Testing Data Retrieval usage with Polars and Pandas\n",
    "print(\"Testing Data Retrieval\")\n"
   ]
  },
  {
   "cell_type": "markdown",
   "metadata": {},
   "source": [
    "### Testing the performance of Pandas and Polar Functions"
   ]
  },
  {
   "cell_type": "code",
   "execution_count": 2,
   "metadata": {},
   "outputs": [],
   "source": [
    "# import pandas and polars libraries\n",
    "import polars as pl\n",
    "import pandas as pd\n",
    "\n",
    "# Initialize the evaluator\n",
    "evaluator = PerformanceEvaluator()\n",
    "\n",
    "# Define the number of iterations\n",
    "n = 100\n",
    "\n",
    "# Load Data Frames\n",
    "df_polars = pl.read_csv('data.csv')\n",
    "df_pandas = pd.read_csv('data.csv')"
   ]
  },
  {
   "cell_type": "code",
   "execution_count": 3,
   "metadata": {},
   "outputs": [
    {
     "name": "stdout",
     "output_type": "stream",
     "text": [
      "Testing Data Retrieval\n",
      "Polars mean execution time over 100 runs: 0.547119 seconds\n",
      "Pandas mean execution time over 100 runs: 6.809997 seconds\n",
      "Polars Wins!\n",
      "The execution time for Polars was 6.26 seconds faster than Pandas.\n",
      "Relative Difference: 91.97% faster!\n"
     ]
    }
   ],
   "source": [
    "# Testing Data Retrieval usage with Polars and Pandas\n",
    "print(\"Testing Data Retrieval\")\n",
    "polars_mean_time = evaluator.averaging(pl.read_csv, 'data.csv', n=n, library_name=\"Polars\")\n",
    "pandas_mean_time = evaluator.averaging(pd.read_csv, 'data.csv', n=n, library_name=\"Pandas\")\n",
    "\n",
    "# Calculate the performance difference\n",
    "evaluator.compare_execution_times(polars_mean_time, pandas_mean_time)"
   ]
  },
  {
   "cell_type": "code",
   "execution_count": 4,
   "metadata": {},
   "outputs": [
    {
     "name": "stdout",
     "output_type": "stream",
     "text": [
      "\n",
      "Testing Filtering\n",
      "Polars mean execution time over 100 runs: 0.068801 seconds\n",
      "Pandas mean execution time over 100 runs: 0.202896 seconds\n",
      "Polars Wins!\n",
      "The execution time for Polars was 0.13 seconds faster than Pandas.\n",
      "Relative Difference: 66.09% faster!\n"
     ]
    }
   ],
   "source": [
    "# Test Filtering\n",
    "print(\"\\nTesting Filtering\")\n",
    "polars_mean_time = evaluator.averaging(lambda: df_polars.filter(pl.col('Vict Age') > 2), n=n, library_name=\"Polars\")\n",
    "pandas_mean_time = evaluator.averaging(lambda: df_pandas[df_pandas['Vict Age'] > 2], n=n, library_name=\"Pandas\")\n",
    "\n",
    "# Calculate the performance difference\n",
    "evaluator.compare_execution_times(polars_mean_time, pandas_mean_time)"
   ]
  },
  {
   "cell_type": "code",
   "execution_count": 5,
   "metadata": {},
   "outputs": [
    {
     "name": "stdout",
     "output_type": "stream",
     "text": [
      "\n",
      "Testing Aggregation\n"
     ]
    },
    {
     "name": "stderr",
     "output_type": "stream",
     "text": [
      "C:\\Users\\sinde\\AppData\\Local\\Temp\\ipykernel_17216\\2658259347.py:3: DeprecationWarning: `groupby` is deprecated. It has been renamed to `group_by`.\n",
      "  polars_mean_time = evaluator.averaging(lambda: df_polars.groupby('AREA NAME').agg(pl.col('Vict Age').mean()), n=n, library_name=\"Polars\")\n"
     ]
    },
    {
     "name": "stdout",
     "output_type": "stream",
     "text": [
      "Polars mean execution time over 100 runs: 0.029085 seconds\n",
      "Pandas mean execution time over 100 runs: 0.079509 seconds\n",
      "Polars Wins!\n",
      "The execution time for Polars was 0.05 seconds faster than Pandas.\n",
      "Relative Difference: 63.42% faster!\n"
     ]
    }
   ],
   "source": [
    "# Test Aggregation\n",
    "print(\"\\nTesting Aggregation\")\n",
    "polars_mean_time = evaluator.averaging(lambda: df_polars.groupby('AREA NAME').agg(pl.col('Vict Age').mean()), n=n, library_name=\"Polars\")\n",
    "pandas_mean_time = evaluator.averaging(lambda: df_pandas.groupby('AREA NAME')['Vict Age'].mean(), n=n, library_name=\"Pandas\")\n",
    "\n",
    "# Calculate the performance difference\n",
    "evaluator.compare_execution_times(polars_mean_time, pandas_mean_time)"
   ]
  },
  {
   "cell_type": "code",
   "execution_count": 6,
   "metadata": {},
   "outputs": [
    {
     "name": "stdout",
     "output_type": "stream",
     "text": [
      "\n",
      "Testing Joining\n",
      "Polars mean execution time over 100 runs: 0.434027 seconds\n",
      "Pandas mean execution time over 100 runs: 2.035426 seconds\n",
      "Polars Wins!\n",
      "The execution time for Polars was 1.60 seconds faster than Pandas.\n",
      "Relative Difference: 78.68% faster!\n"
     ]
    }
   ],
   "source": [
    "# Test Joining\n",
    "print(\"\\nTesting Joining\")\n",
    "polars_mean_time = evaluator.averaging(lambda: df_polars.join(df_polars, on='id', how='inner'), n=n, library_name=\"Polars\")\n",
    "pandas_mean_time = evaluator.averaging(lambda: pd.merge(df_pandas, df_pandas, on='id', how='inner'), n=n, library_name=\"Pandas\")\n",
    "\n",
    "# Calculate the performance difference\n",
    "evaluator.compare_execution_times(polars_mean_time, pandas_mean_time)"
   ]
  },
  {
   "cell_type": "code",
   "execution_count": 7,
   "metadata": {},
   "outputs": [
    {
     "name": "stdout",
     "output_type": "stream",
     "text": [
      "\n",
      "Testing Transformation\n",
      "Polars mean execution time over 100 runs: 0.016174 seconds\n",
      "Pandas mean execution time over 100 runs: 0.305624 seconds\n",
      "Polars Wins!\n",
      "The execution time for Polars was 0.29 seconds faster than Pandas.\n",
      "Relative Difference: 94.71% faster!\n"
     ]
    }
   ],
   "source": [
    "# Test Transformation\n",
    "print(\"\\nTesting Transformation\")\n",
    "polars_mean_time = evaluator.averaging(lambda: df_polars.with_columns((pl.col('Vict Sex') + pl.col('Vict Descent')).alias('C')), n=n, library_name=\"Polars\")\n",
    "pandas_mean_time = evaluator.averaging(lambda: df_pandas.assign(C=df_pandas['Vict Sex'] + df_pandas['Vict Descent']), n=n, library_name=\"Pandas\")\n",
    "\n",
    "# Calculate the performance difference\n",
    "evaluator.compare_execution_times(polars_mean_time, pandas_mean_time)"
   ]
  },
  {
   "cell_type": "code",
   "execution_count": 8,
   "metadata": {},
   "outputs": [
    {
     "name": "stdout",
     "output_type": "stream",
     "text": [
      "\n",
      "Testing Sorting\n",
      "Polars mean execution time over 100 runs: 0.508413 seconds\n",
      "Pandas mean execution time over 100 runs: 1.243820 seconds\n",
      "Polars Wins!\n",
      "The execution time for Polars was 0.74 seconds faster than Pandas.\n",
      "Relative Difference: 59.12% faster!\n"
     ]
    }
   ],
   "source": [
    "# Test Sorting\n",
    "print(\"\\nTesting Sorting\")\n",
    "polars_mean_time = evaluator.averaging(lambda: df_polars.sort('AREA NAME'), n=n, library_name=\"Polars\")\n",
    "pandas_mean_time = evaluator.averaging(lambda: df_pandas.sort_values('AREA NAME'), n=n, library_name=\"Pandas\")\n",
    "\n",
    "# Calculate the performance difference\n",
    "evaluator.compare_execution_times(polars_mean_time, pandas_mean_time)"
   ]
  },
  {
   "cell_type": "code",
   "execution_count": 9,
   "metadata": {},
   "outputs": [
    {
     "name": "stdout",
     "output_type": "stream",
     "text": [
      "\n",
      "Testing Window Functions\n",
      "Polars mean execution time over 100 runs: 0.008542 seconds\n",
      "Pandas mean execution time over 100 runs: 0.192828 seconds\n",
      "Polars Wins!\n",
      "The execution time for Polars was 0.18 seconds faster than Pandas.\n",
      "Relative Difference: 95.57% faster!\n"
     ]
    }
   ],
   "source": [
    "# Test Window Functions\n",
    "print(\"\\nTesting Window Functions\")\n",
    "polars_mean_time = evaluator.averaging(lambda: df_polars.with_columns(pl.col('Vict Age').rolling_mean(window_size=3).alias('Vict_Sex_B')), n=n, library_name=\"Polars\")\n",
    "pandas_mean_time = evaluator.averaging(lambda: df_pandas.assign(rolling_mean_B=df_pandas['Vict Age'].rolling(window=3).mean()), n=n, library_name=\"Pandas\")\n",
    "\n",
    "# Calculate the performance difference\n",
    "evaluator.compare_execution_times(polars_mean_time, pandas_mean_time)"
   ]
  }
 ],
 "metadata": {
  "kernelspec": {
   "display_name": "base",
   "language": "python",
   "name": "python3"
  },
  "language_info": {
   "codemirror_mode": {
    "name": "ipython",
    "version": 3
   },
   "file_extension": ".py",
   "mimetype": "text/x-python",
   "name": "python",
   "nbconvert_exporter": "python",
   "pygments_lexer": "ipython3",
   "version": "3.11.0"
  }
 },
 "nbformat": 4,
 "nbformat_minor": 2
}
